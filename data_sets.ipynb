{
 "cells": [
  {
   "cell_type": "code",
   "execution_count": 1,
   "metadata": {},
   "outputs": [],
   "source": [
    "#Import libraries\n",
    "import pandas as pd\n",
    "import numpy as np\n",
    "import datetime as dt\n",
    "import time\n",
    "import requests\n",
    "import json\n",
    "from sklearn.feature_extraction.text import CountVectorizer, TfidfVectorizer\n",
    "from sklearn.pipeline import Pipeline\n",
    "from sklearn.model_selection import train_test_split, GridSearchCV\n",
    "from sklearn.linear_model import LogisticRegression\n",
    "import re\n",
    "from sklearn.naive_bayes import MultinomialNB\n",
    "from sklearn.ensemble import RandomForestClassifier, ExtraTreesClassifier"
   ]
  },
  {
   "cell_type": "code",
   "execution_count": 2,
   "metadata": {},
   "outputs": [],
   "source": [
    "#Use this function that Brian so graceously gave me that uses reddit's API to bring in subreddit posts and comments.\n",
    "#subreddit says what subreddit you want to bring in and kind is if you are looking for posts or comments.\n",
    "#skip is the amount of days you are searching for and times is the amount of times you are searching for data\n",
    "#They come in as a dataframe only if the response code is 200\n",
    "#Have sleep set as 2 seconds so there is a second wait in between each time you grab data\n",
    "def query_pushshift(subreddit, kind='submission', skip=30, times=10, \n",
    "                    subfield = ['title', 'selftext', 'subreddit', 'created_utc', 'author', 'num_comments', 'score', 'is_self'],\n",
    "                    comfields = ['body', 'score', 'created_utc']):\n",
    "\n",
    "    #Size is trying to pull 500 results per pull\n",
    "    stem = \"https://api.pushshift.io/reddit/search/{}/?subreddit={}&size=500\".format(kind, subreddit)\n",
    "    mylist = []\n",
    "    \n",
    "    for x in range(1, times):\n",
    "        \n",
    "        URL = \"{}&after={}d\".format(stem, skip * x)\n",
    "        print(URL)\n",
    "        response = requests.get(URL)\n",
    "        assert response.status_code == 200\n",
    "        mine = response.json()['data']\n",
    "        df = pd.DataFrame.from_dict(mine)\n",
    "        mylist.append(df)\n",
    "        time.sleep(2)\n",
    "        \n",
    "    full = pd.concat(mylist, sort=False)\n",
    "    \n",
    "    if kind == \"submission\":\n",
    "        \n",
    "        full = full[subfield]\n",
    "        \n",
    "        full = full.drop_duplicates()\n",
    "        \n",
    "        full = full.loc[full['is_self'] == True]\n",
    "        \n",
    "    def get_date(created):\n",
    "        return dt.date.fromtimestamp(created)\n",
    "    \n",
    "    _timestamp = full[\"created_utc\"].apply(get_date)\n",
    "    \n",
    "    full['timestamp'] = _timestamp\n",
    "\n",
    "    print(full.shape)\n",
    "    \n",
    "    return full"
   ]
  },
  {
   "cell_type": "code",
   "execution_count": 3,
   "metadata": {},
   "outputs": [
    {
     "name": "stdout",
     "output_type": "stream",
     "text": [
      "https://api.pushshift.io/reddit/search/comment/?subreddit=curb&size=500&after=30d\n",
      "https://api.pushshift.io/reddit/search/comment/?subreddit=curb&size=500&after=60d\n",
      "https://api.pushshift.io/reddit/search/comment/?subreddit=curb&size=500&after=90d\n",
      "https://api.pushshift.io/reddit/search/comment/?subreddit=curb&size=500&after=120d\n",
      "https://api.pushshift.io/reddit/search/comment/?subreddit=curb&size=500&after=150d\n",
      "https://api.pushshift.io/reddit/search/comment/?subreddit=curb&size=500&after=180d\n",
      "https://api.pushshift.io/reddit/search/comment/?subreddit=curb&size=500&after=210d\n",
      "https://api.pushshift.io/reddit/search/comment/?subreddit=curb&size=500&after=240d\n",
      "https://api.pushshift.io/reddit/search/comment/?subreddit=curb&size=500&after=270d\n",
      "(4500, 33)\n"
     ]
    }
   ],
   "source": [
    "df_curb_comment = query_pushshift('curb', kind='comment', times=10)"
   ]
  },
  {
   "cell_type": "code",
   "execution_count": 4,
   "metadata": {},
   "outputs": [],
   "source": [
    "df_curb_comment.to_csv('./datasets/curb_comment.csv')"
   ]
  },
  {
   "cell_type": "code",
   "execution_count": 5,
   "metadata": {},
   "outputs": [
    {
     "name": "stdout",
     "output_type": "stream",
     "text": [
      "https://api.pushshift.io/reddit/search/comment/?subreddit=seinfeld&size=500&after=30d\n",
      "https://api.pushshift.io/reddit/search/comment/?subreddit=seinfeld&size=500&after=60d\n",
      "https://api.pushshift.io/reddit/search/comment/?subreddit=seinfeld&size=500&after=90d\n",
      "https://api.pushshift.io/reddit/search/comment/?subreddit=seinfeld&size=500&after=120d\n",
      "https://api.pushshift.io/reddit/search/comment/?subreddit=seinfeld&size=500&after=150d\n",
      "https://api.pushshift.io/reddit/search/comment/?subreddit=seinfeld&size=500&after=180d\n",
      "https://api.pushshift.io/reddit/search/comment/?subreddit=seinfeld&size=500&after=210d\n",
      "https://api.pushshift.io/reddit/search/comment/?subreddit=seinfeld&size=500&after=240d\n",
      "https://api.pushshift.io/reddit/search/comment/?subreddit=seinfeld&size=500&after=270d\n",
      "(4500, 30)\n"
     ]
    }
   ],
   "source": [
    "df_seinfeld_comment = query_pushshift('seinfeld', kind='comment', times=10)"
   ]
  },
  {
   "cell_type": "code",
   "execution_count": 6,
   "metadata": {},
   "outputs": [],
   "source": [
    "df_seinfeld_comment.to_csv('./datasets/seinfeld_comment.csv')"
   ]
  },
  {
   "cell_type": "code",
   "execution_count": 7,
   "metadata": {},
   "outputs": [
    {
     "name": "stdout",
     "output_type": "stream",
     "text": [
      "https://api.pushshift.io/reddit/search/submission/?subreddit=curb&size=500&after=30d\n",
      "https://api.pushshift.io/reddit/search/submission/?subreddit=curb&size=500&after=60d\n",
      "https://api.pushshift.io/reddit/search/submission/?subreddit=curb&size=500&after=90d\n",
      "https://api.pushshift.io/reddit/search/submission/?subreddit=curb&size=500&after=120d\n",
      "https://api.pushshift.io/reddit/search/submission/?subreddit=curb&size=500&after=150d\n",
      "https://api.pushshift.io/reddit/search/submission/?subreddit=curb&size=500&after=180d\n",
      "https://api.pushshift.io/reddit/search/submission/?subreddit=curb&size=500&after=210d\n",
      "https://api.pushshift.io/reddit/search/submission/?subreddit=curb&size=500&after=240d\n",
      "https://api.pushshift.io/reddit/search/submission/?subreddit=curb&size=500&after=270d\n",
      "https://api.pushshift.io/reddit/search/submission/?subreddit=curb&size=500&after=300d\n",
      "https://api.pushshift.io/reddit/search/submission/?subreddit=curb&size=500&after=330d\n",
      "https://api.pushshift.io/reddit/search/submission/?subreddit=curb&size=500&after=360d\n",
      "https://api.pushshift.io/reddit/search/submission/?subreddit=curb&size=500&after=390d\n",
      "https://api.pushshift.io/reddit/search/submission/?subreddit=curb&size=500&after=420d\n",
      "https://api.pushshift.io/reddit/search/submission/?subreddit=curb&size=500&after=450d\n",
      "https://api.pushshift.io/reddit/search/submission/?subreddit=curb&size=500&after=480d\n",
      "https://api.pushshift.io/reddit/search/submission/?subreddit=curb&size=500&after=510d\n",
      "https://api.pushshift.io/reddit/search/submission/?subreddit=curb&size=500&after=540d\n",
      "https://api.pushshift.io/reddit/search/submission/?subreddit=curb&size=500&after=570d\n",
      "https://api.pushshift.io/reddit/search/submission/?subreddit=curb&size=500&after=600d\n",
      "https://api.pushshift.io/reddit/search/submission/?subreddit=curb&size=500&after=630d\n",
      "https://api.pushshift.io/reddit/search/submission/?subreddit=curb&size=500&after=660d\n",
      "https://api.pushshift.io/reddit/search/submission/?subreddit=curb&size=500&after=690d\n",
      "https://api.pushshift.io/reddit/search/submission/?subreddit=curb&size=500&after=720d\n",
      "https://api.pushshift.io/reddit/search/submission/?subreddit=curb&size=500&after=750d\n",
      "https://api.pushshift.io/reddit/search/submission/?subreddit=curb&size=500&after=780d\n",
      "https://api.pushshift.io/reddit/search/submission/?subreddit=curb&size=500&after=810d\n",
      "https://api.pushshift.io/reddit/search/submission/?subreddit=curb&size=500&after=840d\n",
      "https://api.pushshift.io/reddit/search/submission/?subreddit=curb&size=500&after=870d\n",
      "https://api.pushshift.io/reddit/search/submission/?subreddit=curb&size=500&after=900d\n",
      "https://api.pushshift.io/reddit/search/submission/?subreddit=curb&size=500&after=930d\n",
      "https://api.pushshift.io/reddit/search/submission/?subreddit=curb&size=500&after=960d\n",
      "https://api.pushshift.io/reddit/search/submission/?subreddit=curb&size=500&after=990d\n",
      "https://api.pushshift.io/reddit/search/submission/?subreddit=curb&size=500&after=1020d\n",
      "https://api.pushshift.io/reddit/search/submission/?subreddit=curb&size=500&after=1050d\n",
      "https://api.pushshift.io/reddit/search/submission/?subreddit=curb&size=500&after=1080d\n",
      "https://api.pushshift.io/reddit/search/submission/?subreddit=curb&size=500&after=1110d\n",
      "https://api.pushshift.io/reddit/search/submission/?subreddit=curb&size=500&after=1140d\n",
      "https://api.pushshift.io/reddit/search/submission/?subreddit=curb&size=500&after=1170d\n",
      "https://api.pushshift.io/reddit/search/submission/?subreddit=curb&size=500&after=1200d\n",
      "https://api.pushshift.io/reddit/search/submission/?subreddit=curb&size=500&after=1230d\n",
      "https://api.pushshift.io/reddit/search/submission/?subreddit=curb&size=500&after=1260d\n",
      "https://api.pushshift.io/reddit/search/submission/?subreddit=curb&size=500&after=1290d\n",
      "https://api.pushshift.io/reddit/search/submission/?subreddit=curb&size=500&after=1320d\n",
      "https://api.pushshift.io/reddit/search/submission/?subreddit=curb&size=500&after=1350d\n",
      "https://api.pushshift.io/reddit/search/submission/?subreddit=curb&size=500&after=1380d\n",
      "https://api.pushshift.io/reddit/search/submission/?subreddit=curb&size=500&after=1410d\n",
      "https://api.pushshift.io/reddit/search/submission/?subreddit=curb&size=500&after=1440d\n",
      "https://api.pushshift.io/reddit/search/submission/?subreddit=curb&size=500&after=1470d\n",
      "https://api.pushshift.io/reddit/search/submission/?subreddit=curb&size=500&after=1500d\n",
      "https://api.pushshift.io/reddit/search/submission/?subreddit=curb&size=500&after=1530d\n",
      "https://api.pushshift.io/reddit/search/submission/?subreddit=curb&size=500&after=1560d\n",
      "https://api.pushshift.io/reddit/search/submission/?subreddit=curb&size=500&after=1590d\n",
      "https://api.pushshift.io/reddit/search/submission/?subreddit=curb&size=500&after=1620d\n",
      "https://api.pushshift.io/reddit/search/submission/?subreddit=curb&size=500&after=1650d\n",
      "https://api.pushshift.io/reddit/search/submission/?subreddit=curb&size=500&after=1680d\n",
      "https://api.pushshift.io/reddit/search/submission/?subreddit=curb&size=500&after=1710d\n",
      "https://api.pushshift.io/reddit/search/submission/?subreddit=curb&size=500&after=1740d\n",
      "https://api.pushshift.io/reddit/search/submission/?subreddit=curb&size=500&after=1770d\n",
      "https://api.pushshift.io/reddit/search/submission/?subreddit=curb&size=500&after=1800d\n",
      "https://api.pushshift.io/reddit/search/submission/?subreddit=curb&size=500&after=1830d\n",
      "https://api.pushshift.io/reddit/search/submission/?subreddit=curb&size=500&after=1860d\n",
      "https://api.pushshift.io/reddit/search/submission/?subreddit=curb&size=500&after=1890d\n",
      "https://api.pushshift.io/reddit/search/submission/?subreddit=curb&size=500&after=1920d\n",
      "https://api.pushshift.io/reddit/search/submission/?subreddit=curb&size=500&after=1950d\n",
      "https://api.pushshift.io/reddit/search/submission/?subreddit=curb&size=500&after=1980d\n",
      "https://api.pushshift.io/reddit/search/submission/?subreddit=curb&size=500&after=2010d\n",
      "https://api.pushshift.io/reddit/search/submission/?subreddit=curb&size=500&after=2040d\n",
      "https://api.pushshift.io/reddit/search/submission/?subreddit=curb&size=500&after=2070d\n",
      "https://api.pushshift.io/reddit/search/submission/?subreddit=curb&size=500&after=2100d\n",
      "https://api.pushshift.io/reddit/search/submission/?subreddit=curb&size=500&after=2130d\n",
      "https://api.pushshift.io/reddit/search/submission/?subreddit=curb&size=500&after=2160d\n",
      "https://api.pushshift.io/reddit/search/submission/?subreddit=curb&size=500&after=2190d\n",
      "https://api.pushshift.io/reddit/search/submission/?subreddit=curb&size=500&after=2220d\n",
      "https://api.pushshift.io/reddit/search/submission/?subreddit=curb&size=500&after=2250d\n",
      "https://api.pushshift.io/reddit/search/submission/?subreddit=curb&size=500&after=2280d\n",
      "https://api.pushshift.io/reddit/search/submission/?subreddit=curb&size=500&after=2310d\n",
      "https://api.pushshift.io/reddit/search/submission/?subreddit=curb&size=500&after=2340d\n",
      "https://api.pushshift.io/reddit/search/submission/?subreddit=curb&size=500&after=2370d\n",
      "https://api.pushshift.io/reddit/search/submission/?subreddit=curb&size=500&after=2400d\n",
      "https://api.pushshift.io/reddit/search/submission/?subreddit=curb&size=500&after=2430d\n",
      "https://api.pushshift.io/reddit/search/submission/?subreddit=curb&size=500&after=2460d\n",
      "https://api.pushshift.io/reddit/search/submission/?subreddit=curb&size=500&after=2490d\n",
      "https://api.pushshift.io/reddit/search/submission/?subreddit=curb&size=500&after=2520d\n",
      "https://api.pushshift.io/reddit/search/submission/?subreddit=curb&size=500&after=2550d\n",
      "https://api.pushshift.io/reddit/search/submission/?subreddit=curb&size=500&after=2580d\n",
      "https://api.pushshift.io/reddit/search/submission/?subreddit=curb&size=500&after=2610d\n",
      "https://api.pushshift.io/reddit/search/submission/?subreddit=curb&size=500&after=2640d\n",
      "https://api.pushshift.io/reddit/search/submission/?subreddit=curb&size=500&after=2670d\n",
      "https://api.pushshift.io/reddit/search/submission/?subreddit=curb&size=500&after=2700d\n",
      "https://api.pushshift.io/reddit/search/submission/?subreddit=curb&size=500&after=2730d\n",
      "https://api.pushshift.io/reddit/search/submission/?subreddit=curb&size=500&after=2760d\n",
      "https://api.pushshift.io/reddit/search/submission/?subreddit=curb&size=500&after=2790d\n",
      "https://api.pushshift.io/reddit/search/submission/?subreddit=curb&size=500&after=2820d\n",
      "https://api.pushshift.io/reddit/search/submission/?subreddit=curb&size=500&after=2850d\n"
     ]
    },
    {
     "name": "stdout",
     "output_type": "stream",
     "text": [
      "https://api.pushshift.io/reddit/search/submission/?subreddit=curb&size=500&after=2880d\n",
      "https://api.pushshift.io/reddit/search/submission/?subreddit=curb&size=500&after=2910d\n",
      "https://api.pushshift.io/reddit/search/submission/?subreddit=curb&size=500&after=2940d\n",
      "https://api.pushshift.io/reddit/search/submission/?subreddit=curb&size=500&after=2970d\n",
      "(1062, 9)\n"
     ]
    }
   ],
   "source": [
    "df_curb_post_all = query_pushshift('curb', times=100)"
   ]
  },
  {
   "cell_type": "code",
   "execution_count": 8,
   "metadata": {},
   "outputs": [],
   "source": [
    "df_curb_post_all.to_csv('./datasets/curb_post_all.csv')"
   ]
  },
  {
   "cell_type": "code",
   "execution_count": 9,
   "metadata": {},
   "outputs": [
    {
     "name": "stdout",
     "output_type": "stream",
     "text": [
      "https://api.pushshift.io/reddit/search/submission/?subreddit=seinfeld&size=500&after=30d\n",
      "https://api.pushshift.io/reddit/search/submission/?subreddit=seinfeld&size=500&after=60d\n",
      "https://api.pushshift.io/reddit/search/submission/?subreddit=seinfeld&size=500&after=90d\n",
      "https://api.pushshift.io/reddit/search/submission/?subreddit=seinfeld&size=500&after=120d\n",
      "https://api.pushshift.io/reddit/search/submission/?subreddit=seinfeld&size=500&after=150d\n",
      "https://api.pushshift.io/reddit/search/submission/?subreddit=seinfeld&size=500&after=180d\n",
      "https://api.pushshift.io/reddit/search/submission/?subreddit=seinfeld&size=500&after=210d\n",
      "https://api.pushshift.io/reddit/search/submission/?subreddit=seinfeld&size=500&after=240d\n",
      "https://api.pushshift.io/reddit/search/submission/?subreddit=seinfeld&size=500&after=270d\n",
      "https://api.pushshift.io/reddit/search/submission/?subreddit=seinfeld&size=500&after=300d\n",
      "https://api.pushshift.io/reddit/search/submission/?subreddit=seinfeld&size=500&after=330d\n",
      "https://api.pushshift.io/reddit/search/submission/?subreddit=seinfeld&size=500&after=360d\n",
      "(1040, 9)\n"
     ]
    }
   ],
   "source": [
    "df_seinfeld_post_all = query_pushshift('seinfeld', times=13)"
   ]
  },
  {
   "cell_type": "code",
   "execution_count": 10,
   "metadata": {},
   "outputs": [],
   "source": [
    "df_seinfeld_post_all.to_csv('./datasets/seinfeld_post_all.csv')"
   ]
  },
  {
   "cell_type": "code",
   "execution_count": null,
   "metadata": {},
   "outputs": [],
   "source": []
  }
 ],
 "metadata": {
  "kernelspec": {
   "display_name": "Python 3",
   "language": "python",
   "name": "python3"
  },
  "language_info": {
   "codemirror_mode": {
    "name": "ipython",
    "version": 3
   },
   "file_extension": ".py",
   "mimetype": "text/x-python",
   "name": "python",
   "nbconvert_exporter": "python",
   "pygments_lexer": "ipython3",
   "version": "3.6.8"
  }
 },
 "nbformat": 4,
 "nbformat_minor": 2
}
